{
 "cells": [
  {
   "cell_type": "code",
   "execution_count": 1,
   "metadata": {},
   "outputs": [],
   "source": [
    "import pandas as pd\n",
    "import numpy as np\n",
    "import math"
   ]
  },
  {
   "cell_type": "code",
   "execution_count": 2,
   "metadata": {},
   "outputs": [],
   "source": [
    "import os\n",
    "path = r'C:/Users/user/Desktop/MS FALL 2019/Courses/Big Data/Project/Filtered Testing Data 17nov-20191117T192040Z-001/'\n",
    "folder = os.fsencode(path)\n",
    "filenames = []\n",
    "\n",
    "for file in os.listdir(folder):\n",
    "    filename = os.fsdecode(file)\n",
    "    if filename.endswith( ('.csv') ):\n",
    "        filenames.append(filename)"
   ]
  },
  {
   "cell_type": "code",
   "execution_count": 3,
   "metadata": {},
   "outputs": [],
   "source": [
    "dataframes = []\n",
    "for file in filenames:\n",
    "    first_df = pd.read_csv(path+file)\n",
    "    dataframes.append(first_df)"
   ]
  },
  {
   "cell_type": "code",
   "execution_count": 4,
   "metadata": {},
   "outputs": [
    {
     "data": {
      "text/plain": [
       "330"
      ]
     },
     "execution_count": 4,
     "metadata": {},
     "output_type": "execute_result"
    }
   ],
   "source": [
    "len(dataframes)"
   ]
  },
  {
   "cell_type": "code",
   "execution_count": 5,
   "metadata": {},
   "outputs": [],
   "source": [
    "def compress_dataFrame(first):\n",
    "    for row in first:\n",
    "        if row == \"Policy_Installment_Term\":\n",
    "            first[row] = first[row].mean()\n",
    "        elif row == \"Vehicle_Make_Year\":\n",
    "            first[\"Vehicle_Make_Year_max\"] = first[row].max()\n",
    "            first[\"Vehicle_Make_Year_min\"] = first[row].min()\n",
    "            first[row] = first[row].median()\n",
    "        elif row == \"Vehicle_Symbol\":\n",
    "            first[\"Vehicle_Symbol_max\"] = first[row].max()\n",
    "            first[\"Vehicle_Symbol_min\"] = first[row].min()\n",
    "            first[row] = first[row].median()   \n",
    "        elif row == \"Portfolio\":\n",
    "            first[\"Portfolio\"] = first[row].unique()[0]\n",
    "        else:\n",
    "            first[row] = first[row].sum()\n",
    "            \n",
    "    first_new = first[:1]\n",
    "    return first_new"
   ]
  },
  {
   "cell_type": "code",
   "execution_count": 6,
   "metadata": {},
   "outputs": [],
   "source": [
    "merged_dataframes = []\n",
    "for dataframe in dataframes:\n",
    "    merged_dataframes.append(compress_dataFrame(dataframe))"
   ]
  },
  {
   "cell_type": "code",
   "execution_count": 7,
   "metadata": {},
   "outputs": [],
   "source": [
    "sampled_dataframe = pd.concat([df for df in merged_dataframes],sort=False)"
   ]
  },
  {
   "cell_type": "code",
   "execution_count": 8,
   "metadata": {},
   "outputs": [],
   "source": [
    "sampled_dataframe['Vehicle_Performance_Sports'].fillna((sampled_dataframe['Vehicle_Performance_Sports'].mean()), inplace=True)"
   ]
  },
  {
   "cell_type": "code",
   "execution_count": 9,
   "metadata": {},
   "outputs": [
    {
     "data": {
      "text/plain": [
       "(330, 35)"
      ]
     },
     "execution_count": 9,
     "metadata": {},
     "output_type": "execute_result"
    }
   ],
   "source": [
    "sampled_dataframe.shape"
   ]
  },
  {
   "cell_type": "code",
   "execution_count": 10,
   "metadata": {},
   "outputs": [
    {
     "data": {
      "text/plain": [
       "Vehicle_Usage_Farm                                                         0\n",
       "Vehicle_Usage_Pleasure                                                     0\n",
       "Vehicle_Symbol                                                             0\n",
       "Vehicle_Make_Year                                                          0\n",
       "Vehicle_Performance_High                                                   0\n",
       "Vehicle_Performance_Sports                                                 0\n",
       "Vehicle_Anti_Theft_Device_Alarm Only                                       0\n",
       "Vehicle_Anti_Theft_Device_Passive Disabling-Vehicle Recovery               0\n",
       "Vehicle_Passive_restraint_Y                                                0\n",
       "Vehicle_Physical_Damage_Limit                                              0\n",
       "Driver_Total                                                               0\n",
       "Driver_Total_Female                                                        0\n",
       "Driver_Total_Single                                                        0\n",
       "Driver_Total_Related_To_Insured_Child                                      0\n",
       "Driver_Total_Licensed_In_State                                             0\n",
       "Driver_Total_Teenager_Age_15_19                                            0\n",
       "Driver_Total_College_Ages_20_23                                            0\n",
       "Driver_Total_Middle_Adult_Ages_40_49                                       0\n",
       "Vehicle_Youthful_Driver_Indicator_Y                                        0\n",
       "Vehicle_Youthful_Driver_Training_Code_With or Without Driver Training      0\n",
       "Vehicle_Youthful_Driver_Training_Code_Without Driver Training              0\n",
       "Vehicle_Youthful_Good_Student_Code_Eligible for Good Student Credit        0\n",
       "Vehicle_Driver_Points                                                      0\n",
       "Vehicle_Safe_Driver_Discount_IndicatorN                                    0\n",
       "Policy_CompanyPreferred                                                    0\n",
       "EEA_Multi_Auto_Policies_IndicatorY                                         0\n",
       "EEA_Agency_TypePreferred                                                   0\n",
       "EEA_Packaged_Policy_IndicatorY                                             0\n",
       "EEA_Full_Coverage_IndicatorN                                               0\n",
       "Annual_Premium                                                             0\n",
       "Portfolio                                                                  0\n",
       "Vehicle_Symbol_max                                                         0\n",
       "Vehicle_Symbol_min                                                         0\n",
       "Vehicle_Make_Year_max                                                      0\n",
       "Vehicle_Make_Year_min                                                      0\n",
       "dtype: int64"
      ]
     },
     "execution_count": 10,
     "metadata": {},
     "output_type": "execute_result"
    }
   ],
   "source": [
    "sampled_dataframe.isna().sum()"
   ]
  },
  {
   "cell_type": "code",
   "execution_count": 11,
   "metadata": {},
   "outputs": [],
   "source": [
    "sampled_dataframe.to_csv(\"Testing Portfolio.csv\", index=False)"
   ]
  },
  {
   "cell_type": "code",
   "execution_count": 13,
   "metadata": {},
   "outputs": [
    {
     "data": {
      "text/plain": [
       "(330, 35)"
      ]
     },
     "execution_count": 13,
     "metadata": {},
     "output_type": "execute_result"
    }
   ],
   "source": [
    "sampled_dataframe.shape"
   ]
  },
  {
   "cell_type": "code",
   "execution_count": 14,
   "metadata": {},
   "outputs": [
    {
     "data": {
      "text/html": [
       "<div>\n",
       "<style scoped>\n",
       "    .dataframe tbody tr th:only-of-type {\n",
       "        vertical-align: middle;\n",
       "    }\n",
       "\n",
       "    .dataframe tbody tr th {\n",
       "        vertical-align: top;\n",
       "    }\n",
       "\n",
       "    .dataframe thead th {\n",
       "        text-align: right;\n",
       "    }\n",
       "</style>\n",
       "<table border=\"1\" class=\"dataframe\">\n",
       "  <thead>\n",
       "    <tr style=\"text-align: right;\">\n",
       "      <th></th>\n",
       "      <th>Vehicle_Usage_Farm</th>\n",
       "      <th>Vehicle_Usage_Pleasure</th>\n",
       "      <th>Vehicle_Symbol</th>\n",
       "      <th>Vehicle_Make_Year</th>\n",
       "      <th>Vehicle_Performance_High</th>\n",
       "      <th>Vehicle_Performance_Sports</th>\n",
       "      <th>Vehicle_Anti_Theft_Device_Alarm Only</th>\n",
       "      <th>Vehicle_Anti_Theft_Device_Passive Disabling-Vehicle Recovery</th>\n",
       "      <th>Vehicle_Passive_restraint_Y</th>\n",
       "      <th>Vehicle_Physical_Damage_Limit</th>\n",
       "      <th>...</th>\n",
       "      <th>EEA_Multi_Auto_Policies_IndicatorY</th>\n",
       "      <th>EEA_Agency_TypePreferred</th>\n",
       "      <th>EEA_Packaged_Policy_IndicatorY</th>\n",
       "      <th>EEA_Full_Coverage_IndicatorN</th>\n",
       "      <th>Annual_Premium</th>\n",
       "      <th>Portfolio</th>\n",
       "      <th>Vehicle_Symbol_max</th>\n",
       "      <th>Vehicle_Symbol_min</th>\n",
       "      <th>Vehicle_Make_Year_max</th>\n",
       "      <th>Vehicle_Make_Year_min</th>\n",
       "    </tr>\n",
       "  </thead>\n",
       "  <tbody>\n",
       "    <tr>\n",
       "      <th>0</th>\n",
       "      <td>96</td>\n",
       "      <td>543</td>\n",
       "      <td>11.0</td>\n",
       "      <td>1998.0</td>\n",
       "      <td>9</td>\n",
       "      <td>3.0</td>\n",
       "      <td>88</td>\n",
       "      <td>303</td>\n",
       "      <td>733</td>\n",
       "      <td>47794963</td>\n",
       "      <td>...</td>\n",
       "      <td>904</td>\n",
       "      <td>287</td>\n",
       "      <td>497</td>\n",
       "      <td>394</td>\n",
       "      <td>331804.80</td>\n",
       "      <td>Portfolio_1</td>\n",
       "      <td>25</td>\n",
       "      <td>1</td>\n",
       "      <td>2007</td>\n",
       "      <td>1950</td>\n",
       "    </tr>\n",
       "    <tr>\n",
       "      <th>0</th>\n",
       "      <td>99</td>\n",
       "      <td>535</td>\n",
       "      <td>12.0</td>\n",
       "      <td>1998.0</td>\n",
       "      <td>8</td>\n",
       "      <td>1.0</td>\n",
       "      <td>73</td>\n",
       "      <td>325</td>\n",
       "      <td>758</td>\n",
       "      <td>47649965</td>\n",
       "      <td>...</td>\n",
       "      <td>876</td>\n",
       "      <td>237</td>\n",
       "      <td>464</td>\n",
       "      <td>371</td>\n",
       "      <td>343363.38</td>\n",
       "      <td>Portfolio_10</td>\n",
       "      <td>27</td>\n",
       "      <td>1</td>\n",
       "      <td>2007</td>\n",
       "      <td>1960</td>\n",
       "    </tr>\n",
       "    <tr>\n",
       "      <th>0</th>\n",
       "      <td>79</td>\n",
       "      <td>541</td>\n",
       "      <td>11.0</td>\n",
       "      <td>1998.0</td>\n",
       "      <td>11</td>\n",
       "      <td>3.0</td>\n",
       "      <td>68</td>\n",
       "      <td>308</td>\n",
       "      <td>717</td>\n",
       "      <td>50404962</td>\n",
       "      <td>...</td>\n",
       "      <td>882</td>\n",
       "      <td>282</td>\n",
       "      <td>432</td>\n",
       "      <td>420</td>\n",
       "      <td>324789.90</td>\n",
       "      <td>Portfolio_11</td>\n",
       "      <td>27</td>\n",
       "      <td>1</td>\n",
       "      <td>2007</td>\n",
       "      <td>1955</td>\n",
       "    </tr>\n",
       "    <tr>\n",
       "      <th>0</th>\n",
       "      <td>109</td>\n",
       "      <td>496</td>\n",
       "      <td>11.0</td>\n",
       "      <td>1998.0</td>\n",
       "      <td>12</td>\n",
       "      <td>4.0</td>\n",
       "      <td>77</td>\n",
       "      <td>335</td>\n",
       "      <td>738</td>\n",
       "      <td>48209965</td>\n",
       "      <td>...</td>\n",
       "      <td>889</td>\n",
       "      <td>242</td>\n",
       "      <td>477</td>\n",
       "      <td>373</td>\n",
       "      <td>337672.39</td>\n",
       "      <td>Portfolio_111</td>\n",
       "      <td>24</td>\n",
       "      <td>1</td>\n",
       "      <td>2007</td>\n",
       "      <td>1961</td>\n",
       "    </tr>\n",
       "    <tr>\n",
       "      <th>0</th>\n",
       "      <td>95</td>\n",
       "      <td>524</td>\n",
       "      <td>11.0</td>\n",
       "      <td>1998.0</td>\n",
       "      <td>11</td>\n",
       "      <td>1.0</td>\n",
       "      <td>83</td>\n",
       "      <td>305</td>\n",
       "      <td>731</td>\n",
       "      <td>47259959</td>\n",
       "      <td>...</td>\n",
       "      <td>896</td>\n",
       "      <td>238</td>\n",
       "      <td>479</td>\n",
       "      <td>371</td>\n",
       "      <td>344144.45</td>\n",
       "      <td>Portfolio_112</td>\n",
       "      <td>26</td>\n",
       "      <td>1</td>\n",
       "      <td>2007</td>\n",
       "      <td>1933</td>\n",
       "    </tr>\n",
       "  </tbody>\n",
       "</table>\n",
       "<p>5 rows × 35 columns</p>\n",
       "</div>"
      ],
      "text/plain": [
       "   Vehicle_Usage_Farm      Vehicle_Usage_Pleasure  Vehicle_Symbol  \\\n",
       "0                      96                     543            11.0   \n",
       "0                      99                     535            12.0   \n",
       "0                      79                     541            11.0   \n",
       "0                     109                     496            11.0   \n",
       "0                      95                     524            11.0   \n",
       "\n",
       "   Vehicle_Make_Year  Vehicle_Performance_High  Vehicle_Performance_Sports  \\\n",
       "0             1998.0                         9                         3.0   \n",
       "0             1998.0                         8                         1.0   \n",
       "0             1998.0                        11                         3.0   \n",
       "0             1998.0                        12                         4.0   \n",
       "0             1998.0                        11                         1.0   \n",
       "\n",
       "   Vehicle_Anti_Theft_Device_Alarm Only  \\\n",
       "0                                    88   \n",
       "0                                    73   \n",
       "0                                    68   \n",
       "0                                    77   \n",
       "0                                    83   \n",
       "\n",
       "   Vehicle_Anti_Theft_Device_Passive Disabling-Vehicle Recovery  \\\n",
       "0                                                303              \n",
       "0                                                325              \n",
       "0                                                308              \n",
       "0                                                335              \n",
       "0                                                305              \n",
       "\n",
       "   Vehicle_Passive_restraint_Y  Vehicle_Physical_Damage_Limit  \\\n",
       "0                          733                       47794963   \n",
       "0                          758                       47649965   \n",
       "0                          717                       50404962   \n",
       "0                          738                       48209965   \n",
       "0                          731                       47259959   \n",
       "\n",
       "           ...            EEA_Multi_Auto_Policies_IndicatorY  \\\n",
       "0          ...                                           904   \n",
       "0          ...                                           876   \n",
       "0          ...                                           882   \n",
       "0          ...                                           889   \n",
       "0          ...                                           896   \n",
       "\n",
       "   EEA_Agency_TypePreferred  EEA_Packaged_Policy_IndicatorY  \\\n",
       "0                       287                             497   \n",
       "0                       237                             464   \n",
       "0                       282                             432   \n",
       "0                       242                             477   \n",
       "0                       238                             479   \n",
       "\n",
       "   EEA_Full_Coverage_IndicatorN  Annual_Premium      Portfolio  \\\n",
       "0                           394       331804.80    Portfolio_1   \n",
       "0                           371       343363.38   Portfolio_10   \n",
       "0                           420       324789.90   Portfolio_11   \n",
       "0                           373       337672.39  Portfolio_111   \n",
       "0                           371       344144.45  Portfolio_112   \n",
       "\n",
       "   Vehicle_Symbol_max  Vehicle_Symbol_min  Vehicle_Make_Year_max  \\\n",
       "0                  25                   1                   2007   \n",
       "0                  27                   1                   2007   \n",
       "0                  27                   1                   2007   \n",
       "0                  24                   1                   2007   \n",
       "0                  26                   1                   2007   \n",
       "\n",
       "   Vehicle_Make_Year_min  \n",
       "0                   1950  \n",
       "0                   1960  \n",
       "0                   1955  \n",
       "0                   1961  \n",
       "0                   1933  \n",
       "\n",
       "[5 rows x 35 columns]"
      ]
     },
     "execution_count": 14,
     "metadata": {},
     "output_type": "execute_result"
    }
   ],
   "source": [
    "sampled_dataframe.head()"
   ]
  }
 ],
 "metadata": {
  "kernelspec": {
   "display_name": "Python 3",
   "language": "python",
   "name": "python3"
  },
  "language_info": {
   "codemirror_mode": {
    "name": "ipython",
    "version": 3
   },
   "file_extension": ".py",
   "mimetype": "text/x-python",
   "name": "python",
   "nbconvert_exporter": "python",
   "pygments_lexer": "ipython3",
   "version": "3.6.5"
  }
 },
 "nbformat": 4,
 "nbformat_minor": 2
}
