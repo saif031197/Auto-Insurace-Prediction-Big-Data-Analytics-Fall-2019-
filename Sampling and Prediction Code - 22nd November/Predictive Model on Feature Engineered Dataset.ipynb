{
 "cells": [
  {
   "cell_type": "code",
   "execution_count": 64,
   "metadata": {},
   "outputs": [],
   "source": [
    "import pandas as pd\n",
    "import numpy as np\n",
    "import math\n",
    "from sklearn import preprocessing\n",
    "from sklearn.linear_model import ElasticNet, Lasso,  BayesianRidge, LassoLarsIC\n",
    "from sklearn.ensemble import RandomForestRegressor,  GradientBoostingRegressor\n",
    "from sklearn.kernel_ridge import KernelRidge\n",
    "from sklearn.pipeline import make_pipeline\n",
    "from sklearn.preprocessing import RobustScaler\n",
    "from sklearn.base import BaseEstimator, TransformerMixin, RegressorMixin, clone\n",
    "from sklearn.model_selection import KFold, cross_val_score, train_test_split\n",
    "from sklearn.metrics import mean_squared_error\n",
    "import xgboost as xgb\n",
    "import lightgbm as lgb\n",
    "from sklearn import linear_model\n",
    "from sklearn.model_selection import cross_val_predict\n",
    "from sklearn.linear_model import Ridge, RidgeCV, LassoCV"
   ]
  },
  {
   "cell_type": "code",
   "execution_count": 65,
   "metadata": {},
   "outputs": [
    {
     "data": {
      "text/plain": [
       "(17352, 36)"
      ]
     },
     "execution_count": 65,
     "metadata": {},
     "output_type": "execute_result"
    }
   ],
   "source": [
    "full_data = pd.read_csv(\"Feature_Engineered_Dataset_Nov17.csv\")\n",
    "full_data.shape"
   ]
  },
  {
   "cell_type": "code",
   "execution_count": 66,
   "metadata": {},
   "outputs": [
    {
     "data": {
      "text/html": [
       "<div>\n",
       "<style scoped>\n",
       "    .dataframe tbody tr th:only-of-type {\n",
       "        vertical-align: middle;\n",
       "    }\n",
       "\n",
       "    .dataframe tbody tr th {\n",
       "        vertical-align: top;\n",
       "    }\n",
       "\n",
       "    .dataframe thead th {\n",
       "        text-align: right;\n",
       "    }\n",
       "</style>\n",
       "<table border=\"1\" class=\"dataframe\">\n",
       "  <thead>\n",
       "    <tr style=\"text-align: right;\">\n",
       "      <th></th>\n",
       "      <th>Vehicle_Usage_Farm</th>\n",
       "      <th>Vehicle_Usage_Pleasure</th>\n",
       "      <th>Vehicle_Symbol</th>\n",
       "      <th>Vehicle_Make_Year</th>\n",
       "      <th>Vehicle_Performance_High</th>\n",
       "      <th>Vehicle_Performance_Sports</th>\n",
       "      <th>Vehicle_Anti_Theft_Device_Alarm Only</th>\n",
       "      <th>Vehicle_Anti_Theft_Device_Passive Disabling-Vehicle Recovery</th>\n",
       "      <th>Vehicle_Passive_restraint_Y</th>\n",
       "      <th>Vehicle_Physical_Damage_Limit</th>\n",
       "      <th>...</th>\n",
       "      <th>EEA_Multi_Auto_Policies_IndicatorY</th>\n",
       "      <th>EEA_Agency_TypePreferred</th>\n",
       "      <th>EEA_Packaged_Policy_IndicatorY</th>\n",
       "      <th>EEA_Full_Coverage_IndicatorN</th>\n",
       "      <th>Annual_Premium</th>\n",
       "      <th>Loss_Amount</th>\n",
       "      <th>Vehicle_Symbol_max</th>\n",
       "      <th>Vehicle_Symbol_min</th>\n",
       "      <th>Vehicle_Make_Year_max</th>\n",
       "      <th>Vehicle_Make_Year_min</th>\n",
       "    </tr>\n",
       "  </thead>\n",
       "  <tbody>\n",
       "    <tr>\n",
       "      <td>0</td>\n",
       "      <td>87</td>\n",
       "      <td>533</td>\n",
       "      <td>11.0</td>\n",
       "      <td>1998.0</td>\n",
       "      <td>12</td>\n",
       "      <td>4</td>\n",
       "      <td>65</td>\n",
       "      <td>310</td>\n",
       "      <td>746</td>\n",
       "      <td>46174955</td>\n",
       "      <td>...</td>\n",
       "      <td>869</td>\n",
       "      <td>271</td>\n",
       "      <td>468</td>\n",
       "      <td>371</td>\n",
       "      <td>347525.47</td>\n",
       "      <td>980597.39</td>\n",
       "      <td>26</td>\n",
       "      <td>1</td>\n",
       "      <td>2007</td>\n",
       "      <td>1947</td>\n",
       "    </tr>\n",
       "    <tr>\n",
       "      <td>1</td>\n",
       "      <td>96</td>\n",
       "      <td>561</td>\n",
       "      <td>11.0</td>\n",
       "      <td>1998.0</td>\n",
       "      <td>18</td>\n",
       "      <td>0</td>\n",
       "      <td>84</td>\n",
       "      <td>336</td>\n",
       "      <td>754</td>\n",
       "      <td>48849957</td>\n",
       "      <td>...</td>\n",
       "      <td>894</td>\n",
       "      <td>247</td>\n",
       "      <td>508</td>\n",
       "      <td>363</td>\n",
       "      <td>351081.67</td>\n",
       "      <td>1475654.08</td>\n",
       "      <td>25</td>\n",
       "      <td>3</td>\n",
       "      <td>2007</td>\n",
       "      <td>1967</td>\n",
       "    </tr>\n",
       "    <tr>\n",
       "      <td>2</td>\n",
       "      <td>94</td>\n",
       "      <td>534</td>\n",
       "      <td>11.0</td>\n",
       "      <td>1999.0</td>\n",
       "      <td>13</td>\n",
       "      <td>1</td>\n",
       "      <td>69</td>\n",
       "      <td>324</td>\n",
       "      <td>731</td>\n",
       "      <td>49174961</td>\n",
       "      <td>...</td>\n",
       "      <td>884</td>\n",
       "      <td>269</td>\n",
       "      <td>493</td>\n",
       "      <td>338</td>\n",
       "      <td>355515.92</td>\n",
       "      <td>818847.38</td>\n",
       "      <td>25</td>\n",
       "      <td>1</td>\n",
       "      <td>2007</td>\n",
       "      <td>1965</td>\n",
       "    </tr>\n",
       "    <tr>\n",
       "      <td>3</td>\n",
       "      <td>95</td>\n",
       "      <td>513</td>\n",
       "      <td>11.0</td>\n",
       "      <td>1998.0</td>\n",
       "      <td>15</td>\n",
       "      <td>1</td>\n",
       "      <td>76</td>\n",
       "      <td>317</td>\n",
       "      <td>732</td>\n",
       "      <td>49059972</td>\n",
       "      <td>...</td>\n",
       "      <td>882</td>\n",
       "      <td>251</td>\n",
       "      <td>470</td>\n",
       "      <td>391</td>\n",
       "      <td>336650.79</td>\n",
       "      <td>1192576.47</td>\n",
       "      <td>24</td>\n",
       "      <td>1</td>\n",
       "      <td>2007</td>\n",
       "      <td>1942</td>\n",
       "    </tr>\n",
       "    <tr>\n",
       "      <td>4</td>\n",
       "      <td>88</td>\n",
       "      <td>555</td>\n",
       "      <td>12.0</td>\n",
       "      <td>1999.0</td>\n",
       "      <td>15</td>\n",
       "      <td>3</td>\n",
       "      <td>83</td>\n",
       "      <td>340</td>\n",
       "      <td>738</td>\n",
       "      <td>46424957</td>\n",
       "      <td>...</td>\n",
       "      <td>889</td>\n",
       "      <td>235</td>\n",
       "      <td>486</td>\n",
       "      <td>356</td>\n",
       "      <td>350637.67</td>\n",
       "      <td>1112127.21</td>\n",
       "      <td>27</td>\n",
       "      <td>1</td>\n",
       "      <td>2007</td>\n",
       "      <td>1955</td>\n",
       "    </tr>\n",
       "  </tbody>\n",
       "</table>\n",
       "<p>5 rows × 35 columns</p>\n",
       "</div>"
      ],
      "text/plain": [
       "   Vehicle_Usage_Farm      Vehicle_Usage_Pleasure  Vehicle_Symbol  \\\n",
       "0                      87                     533            11.0   \n",
       "1                      96                     561            11.0   \n",
       "2                      94                     534            11.0   \n",
       "3                      95                     513            11.0   \n",
       "4                      88                     555            12.0   \n",
       "\n",
       "   Vehicle_Make_Year  Vehicle_Performance_High  Vehicle_Performance_Sports  \\\n",
       "0             1998.0                        12                           4   \n",
       "1             1998.0                        18                           0   \n",
       "2             1999.0                        13                           1   \n",
       "3             1998.0                        15                           1   \n",
       "4             1999.0                        15                           3   \n",
       "\n",
       "   Vehicle_Anti_Theft_Device_Alarm Only  \\\n",
       "0                                    65   \n",
       "1                                    84   \n",
       "2                                    69   \n",
       "3                                    76   \n",
       "4                                    83   \n",
       "\n",
       "   Vehicle_Anti_Theft_Device_Passive Disabling-Vehicle Recovery  \\\n",
       "0                                                310              \n",
       "1                                                336              \n",
       "2                                                324              \n",
       "3                                                317              \n",
       "4                                                340              \n",
       "\n",
       "   Vehicle_Passive_restraint_Y  Vehicle_Physical_Damage_Limit  ...  \\\n",
       "0                          746                       46174955  ...   \n",
       "1                          754                       48849957  ...   \n",
       "2                          731                       49174961  ...   \n",
       "3                          732                       49059972  ...   \n",
       "4                          738                       46424957  ...   \n",
       "\n",
       "   EEA_Multi_Auto_Policies_IndicatorY  EEA_Agency_TypePreferred  \\\n",
       "0                                 869                       271   \n",
       "1                                 894                       247   \n",
       "2                                 884                       269   \n",
       "3                                 882                       251   \n",
       "4                                 889                       235   \n",
       "\n",
       "   EEA_Packaged_Policy_IndicatorY  EEA_Full_Coverage_IndicatorN  \\\n",
       "0                             468                           371   \n",
       "1                             508                           363   \n",
       "2                             493                           338   \n",
       "3                             470                           391   \n",
       "4                             486                           356   \n",
       "\n",
       "   Annual_Premium  Loss_Amount  Vehicle_Symbol_max  Vehicle_Symbol_min  \\\n",
       "0       347525.47    980597.39                  26                   1   \n",
       "1       351081.67   1475654.08                  25                   3   \n",
       "2       355515.92    818847.38                  25                   1   \n",
       "3       336650.79   1192576.47                  24                   1   \n",
       "4       350637.67   1112127.21                  27                   1   \n",
       "\n",
       "   Vehicle_Make_Year_max  Vehicle_Make_Year_min  \n",
       "0                   2007                   1947  \n",
       "1                   2007                   1967  \n",
       "2                   2007                   1965  \n",
       "3                   2007                   1942  \n",
       "4                   2007                   1955  \n",
       "\n",
       "[5 rows x 35 columns]"
      ]
     },
     "execution_count": 66,
     "metadata": {},
     "output_type": "execute_result"
    }
   ],
   "source": [
    "full_data = full_data.drop([\"Unnamed: 0\"], axis=1)\n",
    "full_data.head()"
   ]
  },
  {
   "cell_type": "code",
   "execution_count": 135,
   "metadata": {},
   "outputs": [
    {
     "data": {
      "text/plain": [
       "(17352, 35)"
      ]
     },
     "execution_count": 135,
     "metadata": {},
     "output_type": "execute_result"
    }
   ],
   "source": [
    "# Shuffle the data before spliting\n",
    "full_data=full_data.sample(frac=1, random_state=20).reset_index(drop=True)\n",
    "full_data.shape"
   ]
  },
  {
   "cell_type": "code",
   "execution_count": 136,
   "metadata": {},
   "outputs": [
    {
     "data": {
      "text/plain": [
       "17347     361346.02\n",
       "17348    4085405.05\n",
       "17349      90597.53\n",
       "17350     328440.54\n",
       "17351    4796704.24\n",
       "Name: Loss_Amount, dtype: float64"
      ]
     },
     "execution_count": 136,
     "metadata": {},
     "output_type": "execute_result"
    }
   ],
   "source": [
    "full_data[\"Loss_Amount\"].tail()"
   ]
  },
  {
   "cell_type": "code",
   "execution_count": 137,
   "metadata": {},
   "outputs": [
    {
     "name": "stdout",
     "output_type": "stream",
     "text": [
      "(17351, 35)\n",
      "(17351, 1)\n",
      "(17351, 34)\n"
     ]
    }
   ],
   "source": [
    "train = full_data[:-1]\n",
    "print(train.shape)\n",
    "y_train = pd.DataFrame(train[\"Loss_Amount\"])\n",
    "print(y_train.shape)\n",
    "train = train.drop([\"Loss_Amount\"], axis=1)\n",
    "print(train.shape)"
   ]
  },
  {
   "cell_type": "code",
   "execution_count": 138,
   "metadata": {},
   "outputs": [
    {
     "name": "stdout",
     "output_type": "stream",
     "text": [
      "(1, 35)\n",
      "(1, 1)\n",
      "(1, 34)\n"
     ]
    }
   ],
   "source": [
    "test = full_data[-1:]\n",
    "print(test.shape)\n",
    "y_test = pd.DataFrame(test[\"Loss_Amount\"])\n",
    "print(y_test.shape)\n",
    "test = test.drop([\"Loss_Amount\"], axis=1)\n",
    "print(test.shape)"
   ]
  },
  {
   "cell_type": "code",
   "execution_count": 139,
   "metadata": {},
   "outputs": [
    {
     "name": "stdout",
     "output_type": "stream",
     "text": [
      "Train Annual Premium =  17363088452.25\n",
      "Train Loss Amount =  12185866290.5\n",
      "Train Loss Ratio =  0.7018259639701883\n",
      "Train Loss log Ratio =  -0.35406982026460493\n",
      "Test Annual Premium =  1748638.25\n",
      "Test Loss Amount =  4796704.24\n",
      "Test Loss Ratio =  2.7431083816220996\n",
      "Test Loss log Ratio =  1.0090917232500212\n"
     ]
    }
   ],
   "source": [
    "#Training Data\n",
    "train_premium = train[\"Annual_Premium\"].sum()\n",
    "train_loss = y_train[\"Loss_Amount\"].sum()\n",
    "print(\"Train Annual Premium = \", train_premium)\n",
    "print(\"Train Loss Amount = \", train_loss)\n",
    "train_loss_ratio = (train_loss/train_premium)\n",
    "print(\"Train Loss Ratio = \", train_loss_ratio)\n",
    "print(\"Train Loss log Ratio = \", math.log(train_loss_ratio))\n",
    "\n",
    "# Testing Data\n",
    "test_premium = test[\"Annual_Premium\"].sum()\n",
    "test_loss = y_test[\"Loss_Amount\"].sum()\n",
    "print(\"Test Annual Premium = \", test_premium)\n",
    "print(\"Test Loss Amount = \", test_loss)\n",
    "test_loss_ratio = (test_loss/test_premium)\n",
    "print(\"Test Loss Ratio = \", test_loss_ratio)\n",
    "print(\"Test Loss log Ratio = \", math.log(test_loss_ratio))"
   ]
  },
  {
   "cell_type": "code",
   "execution_count": 140,
   "metadata": {},
   "outputs": [
    {
     "name": "stdout",
     "output_type": "stream",
     "text": [
      "Means =  [2.75186041e+02 1.59868693e+03 1.10497090e+01 1.99813567e+03\n",
      " 3.78666936e+01 7.60054176e+00 2.23938102e+02 9.37614835e+02\n",
      " 2.19309244e+03 1.43259032e+08 3.33538885e+03 1.73207325e+03\n",
      " 7.21244136e+02 2.23311337e+02 3.32255057e+03 1.21058729e+02\n",
      " 1.36146043e+02 7.93945652e+02 2.89939312e+02 1.42754884e+02\n",
      " 1.23984381e+02 4.12628667e+01 3.57377673e+02 1.18657524e+03\n",
      " 1.87315601e+02 2.63546349e+03 7.68080111e+02 1.40382191e+03\n",
      " 1.15261345e+03 1.00069670e+06 2.59318771e+01 8.80006916e-01\n",
      " 2.00714869e+03 1.94765547e+03]\n",
      "Standard Deviations =  [1.27592087e+03 7.37440700e+03 2.14036305e-01 3.58149738e-01\n",
      " 1.72443650e+02 3.53369190e+01 1.02331295e+03 4.24637733e+03\n",
      " 1.00125208e+04 6.59029461e+08 1.53473564e+04 7.92013832e+03\n",
      " 3.28092836e+03 1.01302811e+03 1.52884213e+04 5.41792807e+02\n",
      " 6.17807165e+02 3.65232070e+03 1.31079936e+03 6.50736055e+02\n",
      " 5.55890057e+02 1.85630391e+02 1.60958900e+03 5.41045127e+03\n",
      " 8.58350035e+02 1.21462862e+04 3.53697922e+03 6.41348695e+03\n",
      " 5.43152745e+03 4.54050368e+06 1.15492043e+00 7.58794685e-01\n",
      " 3.55949130e-01 1.09794721e+01]\n"
     ]
    }
   ],
   "source": [
    "# Scaling the training Dataset\n",
    "# We have train, y_train, test and y_test\n",
    "\n",
    "scaler = preprocessing.StandardScaler().fit(train)\n",
    "train = scaler.transform(train)\n",
    "\n",
    "# scale test dataset\n",
    "test = scaler.transform(test)\n",
    "\n",
    "print('Means = ', scaler.mean_)\n",
    "print('Standard Deviations = ', scaler.scale_)"
   ]
  },
  {
   "cell_type": "markdown",
   "metadata": {},
   "source": [
    "## Modeling and Predictions"
   ]
  },
  {
   "cell_type": "code",
   "execution_count": 160,
   "metadata": {},
   "outputs": [
    {
     "name": "stderr",
     "output_type": "stream",
     "text": [
      "C:\\ProgramData\\Anaconda3\\lib\\site-packages\\sklearn\\linear_model\\coordinate_descent.py:1094: DataConversionWarning: A column-vector y was passed when a 1d array was expected. Please change the shape of y to (n_samples, ), for example using ravel().\n",
      "  y = column_or_1d(y, warn=True)\n",
      "C:\\ProgramData\\Anaconda3\\lib\\site-packages\\sklearn\\linear_model\\coordinate_descent.py:491: ConvergenceWarning: Objective did not converge. You might want to increase the number of iterations. Fitting data with very small alpha may cause precision problems.\n",
      "  ConvergenceWarning)\n",
      "C:\\ProgramData\\Anaconda3\\lib\\site-packages\\sklearn\\linear_model\\coordinate_descent.py:491: ConvergenceWarning: Objective did not converge. You might want to increase the number of iterations. Fitting data with very small alpha may cause precision problems.\n",
      "  ConvergenceWarning)\n"
     ]
    },
    {
     "data": {
      "text/plain": [
       "LassoCV(alphas=(0.1, 10.2, 20.3, 30.4, 40.5, 50.6, 60.699999999999996, 70.8, 80.89999999999999, 90.99999999999999, 101.1, 111.19999999999999, 121.29999999999998, 131.39999999999998, 141.5, 151.6, 161.7, 171.79999999999998, 181.89999999999998, 192.0, 202.1, 212.2, 222.29999999999998, 232.39999999999998, 242.....8, 888.9, 899.0, 909.1, 919.2, 929.3, 939.4, 949.5, 959.6, 969.6999999999999, 979.8, 989.9, 1000.0),\n",
       "    copy_X=True, cv=50, eps=0.001, fit_intercept=True, max_iter=10000,\n",
       "    n_alphas=100, n_jobs=1, normalize=False, positive=False,\n",
       "    precompute='auto', random_state=None, selection='cyclic', tol=0.0001,\n",
       "    verbose=False)"
      ]
     },
     "execution_count": 160,
     "metadata": {},
     "output_type": "execute_result"
    }
   ],
   "source": [
    "l1_cv = LassoCV(cv=50, max_iter=10000)\n",
    "\n",
    "#100 Regularization coefficients evenly spaced between 0.1 and 1000\n",
    "l1_cv.alphas = tuple(np.linspace(0.1,1000,100))\n",
    "\n",
    "l1_cv.fit(train, y_train)"
   ]
  },
  {
   "cell_type": "code",
   "execution_count": 161,
   "metadata": {},
   "outputs": [],
   "source": [
    "res = l1_cv.predict(test)"
   ]
  },
  {
   "cell_type": "code",
   "execution_count": 162,
   "metadata": {},
   "outputs": [
    {
     "data": {
      "text/plain": [
       "0.0"
      ]
     },
     "execution_count": 162,
     "metadata": {},
     "output_type": "execute_result"
    }
   ],
   "source": [
    "res_pred = l1_cv.predict(train)\n",
    "train_loss - res_pred.sum()"
   ]
  },
  {
   "cell_type": "code",
   "execution_count": 163,
   "metadata": {},
   "outputs": [
    {
     "data": {
      "text/plain": [
       "4798057.604141111"
      ]
     },
     "execution_count": 163,
     "metadata": {},
     "output_type": "execute_result"
    }
   ],
   "source": [
    "res.sum()"
   ]
  },
  {
   "cell_type": "code",
   "execution_count": 164,
   "metadata": {},
   "outputs": [
    {
     "data": {
      "text/plain": [
       "4796704.24"
      ]
     },
     "execution_count": 164,
     "metadata": {},
     "output_type": "execute_result"
    }
   ],
   "source": [
    "test_loss"
   ]
  },
  {
   "cell_type": "code",
   "execution_count": 165,
   "metadata": {},
   "outputs": [
    {
     "data": {
      "text/plain": [
       "-1353.3641411103308"
      ]
     },
     "execution_count": 165,
     "metadata": {},
     "output_type": "execute_result"
    }
   ],
   "source": [
    "test_loss - res.sum()"
   ]
  },
  {
   "cell_type": "code",
   "execution_count": 166,
   "metadata": {},
   "outputs": [
    {
     "data": {
      "text/plain": [
       "1.0093738280426299"
      ]
     },
     "execution_count": 166,
     "metadata": {},
     "output_type": "execute_result"
    }
   ],
   "source": [
    "math.log((res.sum()/test_premium))"
   ]
  },
  {
   "cell_type": "code",
   "execution_count": 141,
   "metadata": {},
   "outputs": [
    {
     "data": {
      "text/plain": [
       "RidgeCV(alphas=(0.1, 101.1090909090909, 202.1181818181818, 303.1272727272727, 404.1363636363636, 505.1454545454545, 606.1545454545454, 707.1636363636363, 808.1727272727272, 909.1818181818181, 1010.190909090909, 1111.1999999999998, 1212.2090909090907, 1313.2181818181816, 1414.2272727272725, 1515.236363636363...4.954545454546, 9595.963636363636, 9696.972727272727, 9797.981818181817, 9898.990909090908, 10000.0),\n",
       "    cv=None, fit_intercept=True, gcv_mode=None, normalize=False,\n",
       "    scoring=None, store_cv_values=True)"
      ]
     },
     "execution_count": 141,
     "metadata": {},
     "output_type": "execute_result"
    }
   ],
   "source": [
    "l2_cv = RidgeCV(cv=None, store_cv_values=True)\n",
    "\n",
    "#100 Regularization coefficients evenly spaced between 0.1 and 1000\n",
    "l2_cv.alphas = tuple(np.linspace(0.1,10000,100))\n",
    "l2_cv.fit(train, y_train)"
   ]
  },
  {
   "cell_type": "code",
   "execution_count": 142,
   "metadata": {},
   "outputs": [],
   "source": [
    "res_l2 = l2_cv.predict(test)"
   ]
  },
  {
   "cell_type": "code",
   "execution_count": 143,
   "metadata": {},
   "outputs": [
    {
     "data": {
      "text/plain": [
       "4750205.335147528"
      ]
     },
     "execution_count": 143,
     "metadata": {},
     "output_type": "execute_result"
    }
   ],
   "source": [
    "res_l2.sum()"
   ]
  },
  {
   "cell_type": "code",
   "execution_count": 144,
   "metadata": {},
   "outputs": [
    {
     "data": {
      "text/plain": [
       "46498.904852472246"
      ]
     },
     "execution_count": 144,
     "metadata": {},
     "output_type": "execute_result"
    }
   ],
   "source": [
    "test_loss - res_l2.sum()"
   ]
  },
  {
   "cell_type": "code",
   "execution_count": 145,
   "metadata": {},
   "outputs": [
    {
     "data": {
      "text/plain": [
       "0.99935050339636"
      ]
     },
     "execution_count": 145,
     "metadata": {},
     "output_type": "execute_result"
    }
   ],
   "source": [
    "math.log((res_l2.sum()/test_premium))"
   ]
  },
  {
   "cell_type": "code",
   "execution_count": 146,
   "metadata": {},
   "outputs": [],
   "source": [
    "model_xgb = xgb.XGBRegressor(colsample_bytree=0.2, gamma=0.0, \n",
    "                             learning_rate=0.05, max_depth=6, \n",
    "                             min_child_weight=1.5, n_estimators=7200,\n",
    "                             reg_alpha=0.9, reg_lambda=0.6,\n",
    "                             subsample=0.2,seed=42, silent=1,\n",
    "                             random_state =7)"
   ]
  },
  {
   "cell_type": "code",
   "execution_count": 147,
   "metadata": {},
   "outputs": [
    {
     "ename": "KeyboardInterrupt",
     "evalue": "",
     "output_type": "error",
     "traceback": [
      "\u001b[1;31m---------------------------------------------------------------------------\u001b[0m",
      "\u001b[1;31mKeyboardInterrupt\u001b[0m                         Traceback (most recent call last)",
      "\u001b[1;32m<ipython-input-147-1a89e5788ccf>\u001b[0m in \u001b[0;36m<module>\u001b[1;34m()\u001b[0m\n\u001b[1;32m----> 1\u001b[1;33m \u001b[0mmodel_xgb\u001b[0m\u001b[1;33m.\u001b[0m\u001b[0mfit\u001b[0m\u001b[1;33m(\u001b[0m\u001b[0mtrain\u001b[0m\u001b[1;33m,\u001b[0m\u001b[0my_train\u001b[0m\u001b[1;33m)\u001b[0m\u001b[1;33m\u001b[0m\u001b[0m\n\u001b[0m",
      "\u001b[1;32mC:\\ProgramData\\Anaconda3\\lib\\site-packages\\xgboost\\sklearn.py\u001b[0m in \u001b[0;36mfit\u001b[1;34m(self, X, y, sample_weight, eval_set, eval_metric, early_stopping_rounds, verbose, xgb_model, sample_weight_eval_set, callbacks)\u001b[0m\n\u001b[0;32m    394\u001b[0m                               \u001b[0mevals_result\u001b[0m\u001b[1;33m=\u001b[0m\u001b[0mevals_result\u001b[0m\u001b[1;33m,\u001b[0m \u001b[0mobj\u001b[0m\u001b[1;33m=\u001b[0m\u001b[0mobj\u001b[0m\u001b[1;33m,\u001b[0m \u001b[0mfeval\u001b[0m\u001b[1;33m=\u001b[0m\u001b[0mfeval\u001b[0m\u001b[1;33m,\u001b[0m\u001b[1;33m\u001b[0m\u001b[0m\n\u001b[0;32m    395\u001b[0m                               \u001b[0mverbose_eval\u001b[0m\u001b[1;33m=\u001b[0m\u001b[0mverbose\u001b[0m\u001b[1;33m,\u001b[0m \u001b[0mxgb_model\u001b[0m\u001b[1;33m=\u001b[0m\u001b[0mxgb_model\u001b[0m\u001b[1;33m,\u001b[0m\u001b[1;33m\u001b[0m\u001b[0m\n\u001b[1;32m--> 396\u001b[1;33m                               callbacks=callbacks)\n\u001b[0m\u001b[0;32m    397\u001b[0m \u001b[1;33m\u001b[0m\u001b[0m\n\u001b[0;32m    398\u001b[0m         \u001b[1;32mif\u001b[0m \u001b[0mevals_result\u001b[0m\u001b[1;33m:\u001b[0m\u001b[1;33m\u001b[0m\u001b[0m\n",
      "\u001b[1;32mC:\\ProgramData\\Anaconda3\\lib\\site-packages\\xgboost\\training.py\u001b[0m in \u001b[0;36mtrain\u001b[1;34m(params, dtrain, num_boost_round, evals, obj, feval, maximize, early_stopping_rounds, evals_result, verbose_eval, xgb_model, callbacks, learning_rates)\u001b[0m\n\u001b[0;32m    214\u001b[0m                            \u001b[0mevals\u001b[0m\u001b[1;33m=\u001b[0m\u001b[0mevals\u001b[0m\u001b[1;33m,\u001b[0m\u001b[1;33m\u001b[0m\u001b[0m\n\u001b[0;32m    215\u001b[0m                            \u001b[0mobj\u001b[0m\u001b[1;33m=\u001b[0m\u001b[0mobj\u001b[0m\u001b[1;33m,\u001b[0m \u001b[0mfeval\u001b[0m\u001b[1;33m=\u001b[0m\u001b[0mfeval\u001b[0m\u001b[1;33m,\u001b[0m\u001b[1;33m\u001b[0m\u001b[0m\n\u001b[1;32m--> 216\u001b[1;33m                            xgb_model=xgb_model, callbacks=callbacks)\n\u001b[0m\u001b[0;32m    217\u001b[0m \u001b[1;33m\u001b[0m\u001b[0m\n\u001b[0;32m    218\u001b[0m \u001b[1;33m\u001b[0m\u001b[0m\n",
      "\u001b[1;32mC:\\ProgramData\\Anaconda3\\lib\\site-packages\\xgboost\\training.py\u001b[0m in \u001b[0;36m_train_internal\u001b[1;34m(params, dtrain, num_boost_round, evals, obj, feval, xgb_model, callbacks)\u001b[0m\n\u001b[0;32m     72\u001b[0m         \u001b[1;31m# Skip the first update if it is a recovery step.\u001b[0m\u001b[1;33m\u001b[0m\u001b[1;33m\u001b[0m\u001b[0m\n\u001b[0;32m     73\u001b[0m         \u001b[1;32mif\u001b[0m \u001b[0mversion\u001b[0m \u001b[1;33m%\u001b[0m \u001b[1;36m2\u001b[0m \u001b[1;33m==\u001b[0m \u001b[1;36m0\u001b[0m\u001b[1;33m:\u001b[0m\u001b[1;33m\u001b[0m\u001b[0m\n\u001b[1;32m---> 74\u001b[1;33m             \u001b[0mbst\u001b[0m\u001b[1;33m.\u001b[0m\u001b[0mupdate\u001b[0m\u001b[1;33m(\u001b[0m\u001b[0mdtrain\u001b[0m\u001b[1;33m,\u001b[0m \u001b[0mi\u001b[0m\u001b[1;33m,\u001b[0m \u001b[0mobj\u001b[0m\u001b[1;33m)\u001b[0m\u001b[1;33m\u001b[0m\u001b[0m\n\u001b[0m\u001b[0;32m     75\u001b[0m             \u001b[0mbst\u001b[0m\u001b[1;33m.\u001b[0m\u001b[0msave_rabit_checkpoint\u001b[0m\u001b[1;33m(\u001b[0m\u001b[1;33m)\u001b[0m\u001b[1;33m\u001b[0m\u001b[0m\n\u001b[0;32m     76\u001b[0m             \u001b[0mversion\u001b[0m \u001b[1;33m+=\u001b[0m \u001b[1;36m1\u001b[0m\u001b[1;33m\u001b[0m\u001b[0m\n",
      "\u001b[1;32mC:\\ProgramData\\Anaconda3\\lib\\site-packages\\xgboost\\core.py\u001b[0m in \u001b[0;36mupdate\u001b[1;34m(self, dtrain, iteration, fobj)\u001b[0m\n\u001b[0;32m   1107\u001b[0m         \u001b[1;32mif\u001b[0m \u001b[0mfobj\u001b[0m \u001b[1;32mis\u001b[0m \u001b[1;32mNone\u001b[0m\u001b[1;33m:\u001b[0m\u001b[1;33m\u001b[0m\u001b[0m\n\u001b[0;32m   1108\u001b[0m             _check_call(_LIB.XGBoosterUpdateOneIter(self.handle, ctypes.c_int(iteration),\n\u001b[1;32m-> 1109\u001b[1;33m                                                     dtrain.handle))\n\u001b[0m\u001b[0;32m   1110\u001b[0m         \u001b[1;32melse\u001b[0m\u001b[1;33m:\u001b[0m\u001b[1;33m\u001b[0m\u001b[0m\n\u001b[0;32m   1111\u001b[0m             \u001b[0mpred\u001b[0m \u001b[1;33m=\u001b[0m \u001b[0mself\u001b[0m\u001b[1;33m.\u001b[0m\u001b[0mpredict\u001b[0m\u001b[1;33m(\u001b[0m\u001b[0mdtrain\u001b[0m\u001b[1;33m)\u001b[0m\u001b[1;33m\u001b[0m\u001b[0m\n",
      "\u001b[1;31mKeyboardInterrupt\u001b[0m: "
     ]
    }
   ],
   "source": [
    "model_xgb.fit(train,y_train)"
   ]
  },
  {
   "cell_type": "code",
   "execution_count": 24,
   "metadata": {},
   "outputs": [],
   "source": [
    "res_xgb = model_xgb.predict(test)"
   ]
  },
  {
   "cell_type": "code",
   "execution_count": 25,
   "metadata": {},
   "outputs": [
    {
     "data": {
      "text/plain": [
       "48327.84"
      ]
     },
     "execution_count": 25,
     "metadata": {},
     "output_type": "execute_result"
    }
   ],
   "source": [
    "res_xgb.sum()"
   ]
  },
  {
   "cell_type": "code",
   "execution_count": 26,
   "metadata": {},
   "outputs": [
    {
     "data": {
      "text/plain": [
       "168613.36015625"
      ]
     },
     "execution_count": 26,
     "metadata": {},
     "output_type": "execute_result"
    }
   ],
   "source": [
    "test_loss - res_xgb.sum()"
   ]
  },
  {
   "cell_type": "code",
   "execution_count": 27,
   "metadata": {},
   "outputs": [
    {
     "data": {
      "text/plain": [
       "-3.523579157073891"
      ]
     },
     "execution_count": 27,
     "metadata": {},
     "output_type": "execute_result"
    }
   ],
   "source": [
    "math.log((res_xgb.sum()/test_premium))"
   ]
  },
  {
   "cell_type": "code",
   "execution_count": 148,
   "metadata": {},
   "outputs": [],
   "source": [
    "model_lgb = lgb.LGBMRegressor(objective='regression',num_leaves=5,\n",
    "                              learning_rate=0.05, n_estimators=720,\n",
    "                              max_bin = 55, bagging_fraction = 0.8,\n",
    "                              bagging_freq = 5, feature_fraction = 0.2319,\n",
    "                              feature_fraction_seed=9, bagging_seed=9,\n",
    "                              min_data_in_leaf =6, min_sum_hessian_in_leaf = 11)"
   ]
  },
  {
   "cell_type": "code",
   "execution_count": 149,
   "metadata": {},
   "outputs": [
    {
     "name": "stderr",
     "output_type": "stream",
     "text": [
      "C:\\ProgramData\\Anaconda3\\lib\\site-packages\\sklearn\\utils\\validation.py:578: DataConversionWarning: A column-vector y was passed when a 1d array was expected. Please change the shape of y to (n_samples, ), for example using ravel().\n",
      "  y = column_or_1d(y, warn=True)\n"
     ]
    },
    {
     "data": {
      "text/plain": [
       "LGBMRegressor(bagging_fraction=0.8, bagging_freq=5, bagging_seed=9,\n",
       "       boosting_type='gbdt', class_weight=None, colsample_bytree=1.0,\n",
       "       feature_fraction=0.2319, feature_fraction_seed=9,\n",
       "       importance_type='split', learning_rate=0.05, max_bin=55,\n",
       "       max_depth=-1, min_child_samples=20, min_child_weight=0.001,\n",
       "       min_data_in_leaf=6, min_split_gain=0.0, min_sum_hessian_in_leaf=11,\n",
       "       n_estimators=720, n_jobs=-1, num_leaves=5, objective='regression',\n",
       "       random_state=None, reg_alpha=0.0, reg_lambda=0.0, silent=True,\n",
       "       subsample=1.0, subsample_for_bin=200000, subsample_freq=0)"
      ]
     },
     "execution_count": 149,
     "metadata": {},
     "output_type": "execute_result"
    }
   ],
   "source": [
    "model_lgb.fit(train,y_train)"
   ]
  },
  {
   "cell_type": "code",
   "execution_count": 150,
   "metadata": {},
   "outputs": [],
   "source": [
    "res_lgb = model_lgb.predict(test)"
   ]
  },
  {
   "cell_type": "code",
   "execution_count": 151,
   "metadata": {},
   "outputs": [
    {
     "data": {
      "text/plain": [
       "3044209.723071189"
      ]
     },
     "execution_count": 151,
     "metadata": {},
     "output_type": "execute_result"
    }
   ],
   "source": [
    "res_lgb.sum()"
   ]
  },
  {
   "cell_type": "code",
   "execution_count": 152,
   "metadata": {},
   "outputs": [
    {
     "data": {
      "text/plain": [
       "1752494.516928811"
      ]
     },
     "execution_count": 152,
     "metadata": {},
     "output_type": "execute_result"
    }
   ],
   "source": [
    "test_loss - res_lgb.sum()"
   ]
  },
  {
   "cell_type": "code",
   "execution_count": 153,
   "metadata": {},
   "outputs": [
    {
     "data": {
      "text/plain": [
       "0.554403992656315"
      ]
     },
     "execution_count": 153,
     "metadata": {},
     "output_type": "execute_result"
    }
   ],
   "source": [
    "math.log((res_lgb.sum()/test_premium))"
   ]
  },
  {
   "cell_type": "code",
   "execution_count": 154,
   "metadata": {},
   "outputs": [],
   "source": [
    "GBoost = GradientBoostingRegressor(n_estimators=3000, learning_rate=0.05,\n",
    "                                   max_depth=4, max_features='sqrt',\n",
    "                                   min_samples_leaf=15, min_samples_split=10, \n",
    "                                   loss='huber', random_state =5)"
   ]
  },
  {
   "cell_type": "code",
   "execution_count": 155,
   "metadata": {},
   "outputs": [
    {
     "name": "stderr",
     "output_type": "stream",
     "text": [
      "C:\\ProgramData\\Anaconda3\\lib\\site-packages\\sklearn\\utils\\validation.py:578: DataConversionWarning: A column-vector y was passed when a 1d array was expected. Please change the shape of y to (n_samples, ), for example using ravel().\n",
      "  y = column_or_1d(y, warn=True)\n"
     ]
    },
    {
     "data": {
      "text/plain": [
       "GradientBoostingRegressor(alpha=0.9, criterion='friedman_mse', init=None,\n",
       "             learning_rate=0.05, loss='huber', max_depth=4,\n",
       "             max_features='sqrt', max_leaf_nodes=None,\n",
       "             min_impurity_decrease=0.0, min_impurity_split=None,\n",
       "             min_samples_leaf=15, min_samples_split=10,\n",
       "             min_weight_fraction_leaf=0.0, n_estimators=3000,\n",
       "             presort='auto', random_state=5, subsample=1.0, verbose=0,\n",
       "             warm_start=False)"
      ]
     },
     "execution_count": 155,
     "metadata": {},
     "output_type": "execute_result"
    }
   ],
   "source": [
    "GBoost.fit(train,y_train)"
   ]
  },
  {
   "cell_type": "code",
   "execution_count": 156,
   "metadata": {},
   "outputs": [],
   "source": [
    "res_gboost = GBoost.predict(test)"
   ]
  },
  {
   "cell_type": "code",
   "execution_count": 157,
   "metadata": {},
   "outputs": [
    {
     "data": {
      "text/plain": [
       "3162810.6103648366"
      ]
     },
     "execution_count": 157,
     "metadata": {},
     "output_type": "execute_result"
    }
   ],
   "source": [
    "res_gboost.sum()"
   ]
  },
  {
   "cell_type": "code",
   "execution_count": 158,
   "metadata": {},
   "outputs": [
    {
     "data": {
      "text/plain": [
       "1633893.6296351636"
      ]
     },
     "execution_count": 158,
     "metadata": {},
     "output_type": "execute_result"
    }
   ],
   "source": [
    "test_loss - res_gboost.sum()"
   ]
  },
  {
   "cell_type": "code",
   "execution_count": 159,
   "metadata": {},
   "outputs": [
    {
     "data": {
      "text/plain": [
       "0.5926237237788684"
      ]
     },
     "execution_count": 159,
     "metadata": {},
     "output_type": "execute_result"
    }
   ],
   "source": [
    "math.log((res_gboost.sum()/test_premium))"
   ]
  },
  {
   "cell_type": "code",
   "execution_count": 100,
   "metadata": {},
   "outputs": [],
   "source": [
    "KRR = KernelRidge(alpha=0.6, kernel='polynomial', degree=2, coef0=2.5)"
   ]
  },
  {
   "cell_type": "code",
   "execution_count": null,
   "metadata": {},
   "outputs": [
    {
     "name": "stderr",
     "output_type": "stream",
     "text": [
      "C:\\ProgramData\\Anaconda3\\lib\\site-packages\\sklearn\\linear_model\\ridge.py:154: UserWarning: Singular matrix in solving dual problem. Using least-squares solution instead.\n",
      "  warnings.warn(\"Singular matrix in solving dual problem. Using \"\n"
     ]
    }
   ],
   "source": [
    "KRR.fit(train,y_train)"
   ]
  },
  {
   "cell_type": "code",
   "execution_count": null,
   "metadata": {},
   "outputs": [],
   "source": [
    "res_KRR = KRR.predict(test)"
   ]
  },
  {
   "cell_type": "code",
   "execution_count": null,
   "metadata": {},
   "outputs": [],
   "source": [
    "res_KRR.sum()"
   ]
  },
  {
   "cell_type": "code",
   "execution_count": null,
   "metadata": {},
   "outputs": [],
   "source": [
    "test_loss - res_KRR.sum()"
   ]
  },
  {
   "cell_type": "code",
   "execution_count": null,
   "metadata": {},
   "outputs": [],
   "source": [
    "math.log((res_KRR.sum()/test_premium))"
   ]
  },
  {
   "cell_type": "code",
   "execution_count": 40,
   "metadata": {},
   "outputs": [],
   "source": [
    "ENet = make_pipeline(RobustScaler(), ElasticNet(alpha=0.0005, l1_ratio=.9, random_state=3))"
   ]
  },
  {
   "cell_type": "code",
   "execution_count": 41,
   "metadata": {},
   "outputs": [
    {
     "name": "stderr",
     "output_type": "stream",
     "text": [
      "C:\\ProgramData\\Anaconda3\\lib\\site-packages\\sklearn\\linear_model\\coordinate_descent.py:491: ConvergenceWarning: Objective did not converge. You might want to increase the number of iterations. Fitting data with very small alpha may cause precision problems.\n",
      "  ConvergenceWarning)\n"
     ]
    },
    {
     "data": {
      "text/plain": [
       "Pipeline(memory=None,\n",
       "     steps=[('robustscaler', RobustScaler(copy=True, quantile_range=(25.0, 75.0), with_centering=True,\n",
       "       with_scaling=True)), ('elasticnet', ElasticNet(alpha=0.0005, copy_X=True, fit_intercept=True, l1_ratio=0.9,\n",
       "      max_iter=1000, normalize=False, positive=False, precompute=False,\n",
       "      random_state=3, selection='cyclic', tol=0.0001, warm_start=False))])"
      ]
     },
     "execution_count": 41,
     "metadata": {},
     "output_type": "execute_result"
    }
   ],
   "source": [
    "ENet.fit(train,y_train)"
   ]
  },
  {
   "cell_type": "code",
   "execution_count": 42,
   "metadata": {},
   "outputs": [],
   "source": [
    "res_ENet = ENet.predict(test)"
   ]
  },
  {
   "cell_type": "code",
   "execution_count": 43,
   "metadata": {},
   "outputs": [
    {
     "data": {
      "text/plain": [
       "-859877.0967846594"
      ]
     },
     "execution_count": 43,
     "metadata": {},
     "output_type": "execute_result"
    }
   ],
   "source": [
    "res_ENet.sum()"
   ]
  },
  {
   "cell_type": "code",
   "execution_count": 44,
   "metadata": {},
   "outputs": [
    {
     "data": {
      "text/plain": [
       "1076818.2967846594"
      ]
     },
     "execution_count": 44,
     "metadata": {},
     "output_type": "execute_result"
    }
   ],
   "source": [
    "test_loss - res_ENet.sum()"
   ]
  },
  {
   "cell_type": "code",
   "execution_count": 45,
   "metadata": {},
   "outputs": [
    {
     "ename": "ValueError",
     "evalue": "math domain error",
     "output_type": "error",
     "traceback": [
      "\u001b[1;31m---------------------------------------------------------------------------\u001b[0m",
      "\u001b[1;31mValueError\u001b[0m                                Traceback (most recent call last)",
      "\u001b[1;32m<ipython-input-45-b49b7cf49446>\u001b[0m in \u001b[0;36m<module>\u001b[1;34m()\u001b[0m\n\u001b[1;32m----> 1\u001b[1;33m \u001b[0mmath\u001b[0m\u001b[1;33m.\u001b[0m\u001b[0mlog\u001b[0m\u001b[1;33m(\u001b[0m\u001b[1;33m(\u001b[0m\u001b[0mres_ENet\u001b[0m\u001b[1;33m.\u001b[0m\u001b[0msum\u001b[0m\u001b[1;33m(\u001b[0m\u001b[1;33m)\u001b[0m\u001b[1;33m/\u001b[0m\u001b[0mtest_premium\u001b[0m\u001b[1;33m)\u001b[0m\u001b[1;33m)\u001b[0m\u001b[1;33m\u001b[0m\u001b[0m\n\u001b[0m",
      "\u001b[1;31mValueError\u001b[0m: math domain error"
     ]
    }
   ],
   "source": [
    "math.log((res_ENet.sum()/test_premium))"
   ]
  },
  {
   "cell_type": "code",
   "execution_count": null,
   "metadata": {},
   "outputs": [],
   "source": [
    "Average = (res_ENet.sum()+res_KRR.sum()+res_gboost.sum()+res_lgb.sum()+res_xgb.sum()+res_l2.sum()+res.sum())/7"
   ]
  },
  {
   "cell_type": "code",
   "execution_count": null,
   "metadata": {},
   "outputs": [],
   "source": [
    "math.log(test_loss_ratio)"
   ]
  },
  {
   "cell_type": "code",
   "execution_count": null,
   "metadata": {},
   "outputs": [],
   "source": [
    "math.log((Average/test_premium))"
   ]
  },
  {
   "cell_type": "code",
   "execution_count": null,
   "metadata": {},
   "outputs": [],
   "source": [
    "Average-test_loss"
   ]
  },
  {
   "cell_type": "code",
   "execution_count": null,
   "metadata": {},
   "outputs": [],
   "source": [
    "a = np.array([90,20,30])\n",
    "b = np.array([40,50,60])\n",
    "sum = a + b\n",
    "sum = sum/2\n",
    "print(sum)\n",
    "sum = sum/np.array([2,2,2])\n",
    "print(sum)\n",
    "\n",
    "[5,7,9]"
   ]
  },
  {
   "cell_type": "code",
   "execution_count": null,
   "metadata": {},
   "outputs": [],
   "source": []
  }
 ],
 "metadata": {
  "kernelspec": {
   "display_name": "Python 3",
   "language": "python",
   "name": "python3"
  },
  "language_info": {
   "codemirror_mode": {
    "name": "ipython",
    "version": 3
   },
   "file_extension": ".py",
   "mimetype": "text/x-python",
   "name": "python",
   "nbconvert_exporter": "python",
   "pygments_lexer": "ipython3",
   "version": "3.6.5"
  }
 },
 "nbformat": 4,
 "nbformat_minor": 2
}
